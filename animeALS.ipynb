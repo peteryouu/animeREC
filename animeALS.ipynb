{
 "cells": [
  {
   "cell_type": "code",
   "execution_count": 7,
   "id": "closed-quest",
   "metadata": {},
   "outputs": [],
   "source": [
    "import os\n",
    "import time\n",
    "\n",
    "# spark imports\n",
    "from pyspark.sql import SparkSession\n",
    "from pyspark.sql.functions import UserDefinedFunction, explode, desc\n",
    "from pyspark.sql.types import StringType, ArrayType\n",
    "from pyspark.mllib.recommendation import ALS\n",
    "\n",
    "# data science imports\n",
    "import math\n",
    "import numpy as np\n",
    "import pandas as pd\n",
    "\n",
    "# visualization imports\n",
    "import seaborn as sns\n",
    "import matplotlib.pyplot as plt\n",
    "\n",
    "%matplotlib inline"
   ]
  },
  {
   "cell_type": "code",
   "execution_count": 36,
   "id": "departmental-indie",
   "metadata": {},
   "outputs": [],
   "source": [
    "spark = SparkSession.builder.appName(\"animeMatrix\") \\\n",
    ".config(\"spark.driver.maxResultSize\", \"25g\") \\\n",
    ".config(\"spark.driver.memory\", \"25g\") \\\n",
    ".config(\"spark.executor.memory\", \"25g\") \\\n",
    ".config(\"spark.master\", \"local[6]\") \\\n",
    ".getOrCreate()\n",
    "\n",
    "sc = spark.sparkContext\n"
   ]
  },
  {
   "cell_type": "code",
   "execution_count": 37,
   "id": "victorian-revolution",
   "metadata": {},
   "outputs": [
    {
     "data": {
      "text/plain": [
       "'3.1.2'"
      ]
     },
     "execution_count": 37,
     "metadata": {},
     "output_type": "execute_result"
    }
   ],
   "source": [
    "sc.version"
   ]
  },
  {
   "cell_type": "code",
   "execution_count": 59,
   "id": "vocational-interpretation",
   "metadata": {},
   "outputs": [],
   "source": [
    "anime_info = spark.read.load(\"archive/anime.csv\", format = 'csv', header = True, inferSchema=True)\n"
   ]
  },
  {
   "cell_type": "code",
   "execution_count": null,
   "id": "51fbfc45",
   "metadata": {},
   "outputs": [],
   "source": [
    "anime_ratings = spark.read.load(\"archive/rating_2020.csv\", format = 'csv', header = True, inferSchema=True) #only takes ratings from users who've completed the show/caught up"
   ]
  },
  {
   "cell_type": "code",
   "execution_count": 60,
   "id": "current-thirty",
   "metadata": {
    "scrolled": true
   },
   "outputs": [
    {
     "name": "stdout",
     "output_type": "stream",
     "text": [
      "+--------+--------------------+-----+\n",
      "|anime_id|                Name|Score|\n",
      "+--------+--------------------+-----+\n",
      "|       1|        Cowboy Bebop| 8.78|\n",
      "|       5|Cowboy Bebop: Ten...| 8.39|\n",
      "|       6|              Trigun| 8.24|\n",
      "|       7|  Witch Hunter Robin| 7.27|\n",
      "|       8|      Bouken Ou Beet| 6.98|\n",
      "+--------+--------------------+-----+\n",
      "only showing top 5 rows\n",
      "\n"
     ]
    }
   ],
   "source": [
    "anime_info = anime_info.select(*[\"MAL_ID\",\"Name\",\"Score\"]).withColumnRenamed(\"MAL_ID\",\"anime_id\")\n",
    "\n",
    "anime_info.show(5)"
   ]
  },
  {
   "cell_type": "code",
   "execution_count": 6,
   "id": "respiratory-ambassador",
   "metadata": {},
   "outputs": [
    {
     "name": "stdout",
     "output_type": "stream",
     "text": [
      "The most anime shows rated by one person is 67 out of 16872\n"
     ]
    }
   ],
   "source": [
    "tmp1 = sum(anime_ratings.groupBy(\"anime_id\").count().toPandas()['count'] == 1)\n",
    "tmp2 = anime_ratings.select('anime_id').distinct().count()\n",
    "print(f'The most anime shows rated by one person is {tmp1} out of {tmp2}')"
   ]
  },
  {
   "cell_type": "code",
   "execution_count": 7,
   "id": "answering-sierra",
   "metadata": {},
   "outputs": [
    {
     "data": {
      "text/plain": [
       "[Row(rating=8, count=14642156)]"
      ]
     },
     "execution_count": 7,
     "metadata": {},
     "output_type": "execute_result"
    }
   ],
   "source": [
    "tmp3 = anime_ratings.groupby(\"rating\").count()\n",
    "tmp3.orderBy(desc(\"count\")).take(1)\n"
   ]
  },
  {
   "cell_type": "markdown",
   "id": "decimal-instrument",
   "metadata": {},
   "source": [
    "The above shows that 8 is our mode for the user scoring dataset, and that there's over 14 million ratings of 8"
   ]
  },
  {
   "cell_type": "code",
   "execution_count": 38,
   "id": "beginning-sarah",
   "metadata": {},
   "outputs": [],
   "source": [
    "anime_ratings = sc.textFile(\"archive/rating_2020.csv\")"
   ]
  },
  {
   "cell_type": "code",
   "execution_count": 39,
   "id": "electric-affiliation",
   "metadata": {
    "scrolled": false
   },
   "outputs": [],
   "source": [
    "rating_header = anime_ratings.take(1)[0]\n",
    "rating_data = anime_ratings \\\n",
    "    .filter(lambda line: line != rating_header) \\\n",
    "    .map(lambda line: line.split(\",\")) \\\n",
    "    .map(lambda tokens: (int(tokens[0]), int(tokens[1]), float(tokens[2]))) \\\n",
    "    .cache()\n",
    "\n"
   ]
  },
  {
   "cell_type": "code",
   "execution_count": 40,
   "id": "editorial-nirvana",
   "metadata": {},
   "outputs": [
    {
     "data": {
      "text/plain": [
       "[(0, 430, 9.0), (0, 1004, 5.0), (0, 3010, 7.0)]"
      ]
     },
     "execution_count": 40,
     "metadata": {},
     "output_type": "execute_result"
    }
   ],
   "source": [
    "rating_data.take(3)"
   ]
  },
  {
   "cell_type": "code",
   "execution_count": 41,
   "id": "dated-billion",
   "metadata": {},
   "outputs": [
    {
     "data": {
      "text/plain": [
       "PythonRDD[2025] at RDD at PythonRDD.scala:53"
      ]
     },
     "execution_count": 41,
     "metadata": {},
     "output_type": "execute_result"
    }
   ],
   "source": [
    "train, valid, test = rating_data.randomSplit([6.0,2.0,2.0], seed = 1)\n",
    "train.cache()\n",
    "valid.cache()\n",
    "test.cache()"
   ]
  },
  {
   "cell_type": "code",
   "execution_count": 22,
   "id": "069f69f6",
   "metadata": {},
   "outputs": [
    {
     "data": {
      "text/plain": [
       "34578449"
      ]
     },
     "execution_count": 22,
     "metadata": {},
     "output_type": "execute_result"
    }
   ],
   "source": [
    "train.count()"
   ]
  },
  {
   "cell_type": "code",
   "execution_count": 43,
   "id": "d40d456f",
   "metadata": {},
   "outputs": [],
   "source": [
    "def train_ALS(train_data, validation_data, num_iters, reg_param, ranks):\n",
    "    \"\"\"\n",
    "edited\n",
    "\"\"\"\n",
    "    # initial\n",
    "    min_error = float('inf')\n",
    "    best_rank = -1\n",
    "    best_regularization = 0\n",
    "    best_model = None\n",
    "    for rank in ranks:\n",
    "        for reg in reg_param:\n",
    "            # train ALS model\n",
    "            model = ALS.train(\n",
    "                ratings=train_data,    # (userID, productID, rating) tuple\n",
    "                iterations=num_iters,\n",
    "                rank=rank,\n",
    "                lambda_=reg,           # regularization param\n",
    "                seed=99)\n",
    "            # make prediction\n",
    "            valid_data = validation_data.map(lambda p: (p[0], p[1]))\n",
    "            predictions = model.predictAll(valid_data).map(lambda r: ((r[0], r[1]), r[2]))\n",
    "            # get the rating result\n",
    "            ratesAndPreds = validation_data.map(lambda r: ((r[0], r[1]), r[2])).join(predictions)\n",
    "            # get the RMSE\n",
    "            MSE = ratesAndPreds.map(lambda r: (r[1][0] - r[1][1])**2).mean()\n",
    "            error = math.sqrt(MSE)\n",
    "            print('{} latent factors and regularization = {}: validation RMSE is {}'.format(rank, reg, error))\n",
    "            if error < min_error:\n",
    "                min_error = error\n",
    "                best_rank = rank\n",
    "                best_regularization = reg\n",
    "                best_model = model\n",
    "    print('\\nThe best model has {} latent factors and regularization = {}'.format(best_rank, best_regularization))\n",
    "    return best_model"
   ]
  },
  {
   "cell_type": "code",
   "execution_count": 44,
   "id": "312a6a49",
   "metadata": {
    "scrolled": true
   },
   "outputs": [
    {
     "name": "stdout",
     "output_type": "stream",
     "text": [
      "8 latent factors and regularization = 0.001: validation RMSE is 1.153347668552001\n",
      "8 latent factors and regularization = 0.01: validation RMSE is 1.1541768856618053\n",
      "8 latent factors and regularization = 0.05: validation RMSE is 1.1513389370027742\n",
      "8 latent factors and regularization = 0.1: validation RMSE is 1.1554308608301995\n",
      "8 latent factors and regularization = 0.2: validation RMSE is 1.187544698686816\n",
      "10 latent factors and regularization = 0.001: validation RMSE is 1.15637946386133\n",
      "10 latent factors and regularization = 0.01: validation RMSE is 1.1531178997495062\n",
      "10 latent factors and regularization = 0.05: validation RMSE is 1.1510549694852925\n",
      "10 latent factors and regularization = 0.1: validation RMSE is 1.1519060100547855\n",
      "10 latent factors and regularization = 0.2: validation RMSE is 1.185154887341202\n",
      "12 latent factors and regularization = 0.001: validation RMSE is 1.1587992496637918\n",
      "12 latent factors and regularization = 0.01: validation RMSE is 1.151882453823172\n",
      "12 latent factors and regularization = 0.05: validation RMSE is 1.1426881002748424\n",
      "12 latent factors and regularization = 0.1: validation RMSE is 1.147423523674405\n",
      "12 latent factors and regularization = 0.2: validation RMSE is 1.187290324843131\n",
      "14 latent factors and regularization = 0.001: validation RMSE is 1.1679280821292917\n",
      "14 latent factors and regularization = 0.01: validation RMSE is 1.1572074860667811\n",
      "14 latent factors and regularization = 0.05: validation RMSE is 1.1458347086085012\n",
      "14 latent factors and regularization = 0.1: validation RMSE is 1.1565220242198975\n",
      "14 latent factors and regularization = 0.2: validation RMSE is 1.1938408985275941\n",
      "16 latent factors and regularization = 0.001: validation RMSE is 1.177749298614548\n",
      "16 latent factors and regularization = 0.01: validation RMSE is 1.1581858307828221\n",
      "16 latent factors and regularization = 0.05: validation RMSE is 1.141432155816026\n",
      "16 latent factors and regularization = 0.1: validation RMSE is 1.149895450472777\n",
      "16 latent factors and regularization = 0.2: validation RMSE is 1.1901333715012972\n",
      "18 latent factors and regularization = 0.001: validation RMSE is 1.1862339053148525\n",
      "18 latent factors and regularization = 0.01: validation RMSE is 1.162973854945006\n",
      "18 latent factors and regularization = 0.05: validation RMSE is 1.1412983579541969\n",
      "18 latent factors and regularization = 0.1: validation RMSE is 1.1504119120969194\n",
      "18 latent factors and regularization = 0.2: validation RMSE is 1.1906755754182885\n",
      "20 latent factors and regularization = 0.001: validation RMSE is 1.1985631666426773\n",
      "20 latent factors and regularization = 0.01: validation RMSE is 1.1704346224217925\n",
      "20 latent factors and regularization = 0.05: validation RMSE is 1.1411978234523268\n",
      "20 latent factors and regularization = 0.1: validation RMSE is 1.1512876423703662\n",
      "20 latent factors and regularization = 0.2: validation RMSE is 1.1904880710795291\n",
      "\n",
      "The best model has 20 latent factors and regularization = 0.05\n",
      "Total Runtime: 14135.48 seconds\n"
     ]
    }
   ],
   "source": [
    "num_iterations = 10\n",
    "ranks = [8, 10, 12, 14, 16, 18, 20]\n",
    "reg_params = [0.001, 0.01, 0.05, 0.1, 0.2]\n",
    "\n",
    "# grid search and select best model\n",
    "start_time = time.time()\n",
    "final_model = train_ALS(train, valid, num_iterations, reg_params, ranks)\n",
    "\n",
    "print ('Total Runtime: {:.2f} seconds'.format(time.time() - start_time))"
   ]
  },
  {
   "cell_type": "code",
   "execution_count": 45,
   "id": "685877f8",
   "metadata": {},
   "outputs": [],
   "source": [
    "def plot_learning_curve(arr_iters, train_data, validation_data, reg, rank):\n",
    "    \"\"\"\n",
    "    Plot function to show learning curve of ALS\n",
    "    \"\"\"\n",
    "    errors = []\n",
    "    for num_iters in arr_iters:\n",
    "        # train ALS model\n",
    "        model = ALS.train(\n",
    "            ratings=train_data,    # (userID, productID, rating) tuple\n",
    "            iterations=num_iters,\n",
    "            rank=rank,\n",
    "            lambda_=reg,           # regularization param\n",
    "            seed=99)\n",
    "        # make prediction\n",
    "        valid_data = validation_data.map(lambda p: (p[0], p[1]))\n",
    "        predictions = model.predictAll(valid_data).map(lambda r: ((r[0], r[1]), r[2]))\n",
    "        # get the rating result\n",
    "        ratesAndPreds = validation_data.map(lambda r: ((r[0], r[1]), r[2])).join(predictions)\n",
    "        # get the RMSE\n",
    "        MSE = ratesAndPreds.map(lambda r: (r[1][0] - r[1][1])**2).mean()\n",
    "        error = math.sqrt(MSE)\n",
    "        # add to errors\n",
    "        errors.append(error)\n",
    "\n",
    "    # plot\n",
    "    plt.figure(figsize=(12, 6))\n",
    "    plt.plot(arr_iters, errors)\n",
    "    plt.xlabel('number of iterations')\n",
    "    plt.ylabel('RMSE')\n",
    "    plt.title('ALS Learning Curve')\n",
    "    plt.grid(True)\n",
    "    plt.show()"
   ]
  },
  {
   "cell_type": "code",
   "execution_count": 46,
   "id": "dad3dc48",
   "metadata": {},
   "outputs": [
    {
     "data": {
      "image/png": "[encoded data removed]",
      "text/plain": [
       "<Figure size 864x432 with 1 Axes>"
      ]
     },
     "metadata": {
      "needs_background": "light"
     },
     "output_type": "display_data"
    }
   ],
   "source": [
    "# create an array of num_iters\n",
    "iter_array = list(range(1, 11))\n",
    "# create learning curve plot\n",
    "plot_learning_curve(iter_array, train, valid, 0.05, 20)"
   ]
  },
  {
   "cell_type": "code",
   "execution_count": 47,
   "id": "9d8577a0",
   "metadata": {},
   "outputs": [
    {
     "name": "stdout",
     "output_type": "stream",
     "text": [
      "The out-of-sample RMSE of rating predictions is 1.1417\n"
     ]
    }
   ],
   "source": [
    "# make prediction using test data\n",
    "test_data = test.map(lambda p: (p[0], p[1]))\n",
    "predictions = final_model.predictAll(test_data).map(lambda r: ((r[0], r[1]), r[2]))\n",
    "# get the rating result\n",
    "ratesAndPreds = test.map(lambda r: ((r[0], r[1]), r[2])).join(predictions)\n",
    "# get the RMSE\n",
    "MSE = ratesAndPreds.map(lambda r: (r[1][0] - r[1][1])**2).mean()\n",
    "error = math.sqrt(MSE)\n",
    "print('The out-of-sample RMSE of rating predictions is', round(error, 4))"
   ]
  },
  {
   "cell_type": "code",
   "execution_count": 73,
   "id": "238053a5",
   "metadata": {},
   "outputs": [],
   "source": [
    "def get_animeId(df_anime, fav_anime_list):\n",
    "    \"\"\"\n",
    "    return all movieId(s) of user's favorite movies\n",
    "    \n",
    "    Parameters\n",
    "    ----------\n",
    "    df_movies: spark Dataframe, movies data\n",
    "    \n",
    "    fav_movie_list: list, user's list of favorite movies\n",
    "    \n",
    "    Return\n",
    "    ------\n",
    "    movieId_list: list of movieId(s)\n",
    "    \"\"\"\n",
    "    animeId_list = []\n",
    "    for anime in fav_anime_list:\n",
    "        animeIds = df_anime \\\n",
    "            .filter(anime_info.Name.like('%{}%'.format(anime))) \\\n",
    "            .select('anime_id') \\\n",
    "            .rdd \\\n",
    "            .map(lambda r: r[0]) \\\n",
    "            .collect()\n",
    "        animeId_list.extend(animeIds)\n",
    "    return list(set(animeId_list))\n",
    "\n",
    "\n",
    "def add_new_user_to_data(train_data, animeId_list, spark_context):\n",
    "    \"\"\"\n",
    "    add new rows with new user, user's movie and ratings to\n",
    "    existing train data\n",
    "\n",
    "    Parameters\n",
    "    ----------\n",
    "    train_data: spark RDD, ratings data\n",
    "    \n",
    "    movieId_list: list, list of movieId(s)\n",
    "\n",
    "    spark_context: Spark Context object\n",
    "    \n",
    "    Return\n",
    "    ------\n",
    "    new train data with the new user's rows\n",
    "    \"\"\"\n",
    "    # get new user id\n",
    "    new_id = train_data.map(lambda r: r[0]).max() + 1\n",
    "    # get max rating\n",
    "    max_rating = train_data.map(lambda r: r[2]).max()\n",
    "    # create new user rdd\n",
    "    user_rows = [(new_id, animeId, max_rating) for animeId in animeId_list]\n",
    "    new_rdd = spark_context.parallelize(user_rows)\n",
    "    # return new train data\n",
    "    return train_data.union(new_rdd)\n",
    "\n",
    "\n",
    "def get_inference_data(train_data, df_anime, animeId_list):\n",
    "    \"\"\"\n",
    "    return a rdd with the userid and all movies (except ones in movieId_list)\n",
    "\n",
    "    Parameters\n",
    "    ----------\n",
    "    train_data: spark RDD, ratings data\n",
    "\n",
    "    df_movies: spark Dataframe, movies data\n",
    "    \n",
    "    movieId_list: list, list of movieId(s)\n",
    "\n",
    "    Return\n",
    "    ------\n",
    "    inference data: Spark RDD\n",
    "    \"\"\"\n",
    "    # get new user id\n",
    "    new_id = train_data.map(lambda r: r[0]).max() + 1\n",
    "    # return inference rdd\n",
    "    return df_anime.rdd \\\n",
    "        .map(lambda r: r[0]) \\\n",
    "        .distinct() \\\n",
    "        .filter(lambda x: x not in animeId_list) \\\n",
    "        .map(lambda x: (new_id, x))\n",
    "\n",
    "\n",
    "def make_recommendation(best_model_params, ratings_data, df_anime, \n",
    "                        fav_anime_list, n_recommendations, spark_context):\n",
    "    \"\"\"\n",
    "    return top n movie recommendation based on user's input list of favorite movies\n",
    "\n",
    "\n",
    "    Parameters\n",
    "    ----------\n",
    "    best_model_params: dict, {'iterations': iter, 'rank': rank, 'lambda_': reg}\n",
    "\n",
    "    ratings_data: spark RDD, ratings data\n",
    "\n",
    "    df_movies: spark Dataframe, movies data\n",
    "\n",
    "    fav_movie_list: list, user's list of favorite movies\n",
    "\n",
    "    n_recommendations: int, top n recommendations\n",
    "\n",
    "    spark_context: Spark Context object\n",
    "\n",
    "    Return\n",
    "    ------\n",
    "    list of top n movie recommendations\n",
    "    \"\"\"\n",
    "    # modify train data by adding new user's rows\n",
    "    animeId_list = get_animeId(df_anime, fav_anime_list)\n",
    "    train_data = add_new_user_to_data(ratings_data,animeId_list, spark_context)\n",
    "    \n",
    "    # train best ALS\n",
    "    model = ALS.train(\n",
    "        ratings=train_data,\n",
    "        iterations=best_model_params.get('iterations', None),\n",
    "        rank=best_model_params.get('rank', None),\n",
    "        lambda_=best_model_params.get('lambda_', None),\n",
    "        seed=99)\n",
    "    \n",
    "    # get inference rdd\n",
    "    inference_rdd = get_inference_data(ratings_data, df_anime, animeId_list)\n",
    "    \n",
    "    # inference\n",
    "    predictions = model.predictAll(inference_rdd).map(lambda r: (r[1], r[2]))\n",
    "    \n",
    "    # get top n movieId\n",
    "    topn_rows = predictions.sortBy(lambda r: r[1], ascending=False).take(n_recommendations)\n",
    "    topn_ids = [r[0] for r in topn_rows]\n",
    "    \n",
    "    # return movie titles\n",
    "    return df_anime.filter(anime_info.anime_id.isin(topn_ids)) \\\n",
    "                    .select('Name') \\\n",
    "                    .rdd \\\n",
    "                    .map(lambda r: r[0]) \\\n",
    "                    .collect()"
   ]
  },
  {
   "cell_type": "code",
   "execution_count": 77,
   "id": "f7cce3be",
   "metadata": {},
   "outputs": [
    {
     "name": "stdout",
     "output_type": "stream",
     "text": [
      "Recommendations for One Piece:\n",
      "1: Chengyu Donghua Lang\n",
      "2: Poppoya-san: Nonki Ekichou\n",
      "3: Saru Tarou Jishin ni wa Makenai zo!: Jishin e no Sonae Dai Sakusen\n",
      "4: Niji no Kakehashi\n",
      "5: Nikoniko♪Connie-chan\n",
      "6: Sam-chan no Obake Nanka Kowaku Nai\n",
      "7: Ni wa no Kotori\n",
      "8: Mametarou Ganbare\n",
      "9: Tsuki no Mine no Ookami\n",
      "10: Trojan wo Jibun no Te de\n"
     ]
    }
   ],
   "source": [
    "my_favorite_animes = ['One Piece']\n",
    "\n",
    "# get recommends\n",
    "recommends = make_recommendation(\n",
    "    best_model_params={'iterations': 10, 'rank': 20, 'lambda_': 0.05}, \n",
    "    ratings_data=rating_data, \n",
    "    df_anime=anime_info, \n",
    "    fav_anime_list=my_favorite_animes, \n",
    "    n_recommendations=10, \n",
    "    spark_context=sc)\n",
    "\n",
    "print('Recommendations for {}:'.format(my_favorite_animes[0]))\n",
    "for i, title in enumerate(recommends):\n",
    "    print('{0}: {1}'.format(i+1, title))"
   ]
  },
  {
   "cell_type": "code",
   "execution_count": null,
   "id": "90f71730",
   "metadata": {},
   "outputs": [],
   "source": []
  }
 ],
 "metadata": {
  "kernelspec": {
   "display_name": "Python 3 (ipykernel)",
   "language": "python",
   "name": "python3"
  },
  "language_info": {
   "codemirror_mode": {
    "name": "ipython",
    "version": 3
   },
   "file_extension": ".py",
   "mimetype": "text/x-python",
   "name": "python",
   "nbconvert_exporter": "python",
   "pygments_lexer": "ipython3",
   "version": "3.7.6"
  }
 },
 "nbformat": 4,
 "nbformat_minor": 5
}
